{
 "cells": [
  {
   "cell_type": "markdown",
   "id": "d4899310",
   "metadata": {},
   "source": [
    "# Common imports"
   ]
  },
  {
   "cell_type": "code",
   "execution_count": 1,
   "id": "aba44da5",
   "metadata": {},
   "outputs": [],
   "source": [
    "import matplotlib as mpl\n",
    "import matplotlib.pyplot as plt\n",
    "from cycler import cycler\n",
    "\n",
    "import pandas as pd\n",
    "\n",
    "from pathlib import Path"
   ]
  },
  {
   "cell_type": "markdown",
   "id": "a70f3af3",
   "metadata": {},
   "source": [
    "# Manipulating Human Development Reports dataset"
   ]
  },
  {
   "cell_type": "markdown",
   "id": "66e8a5a5",
   "metadata": {},
   "source": [
    "## Reading Human Development Reports dataset"
   ]
  },
  {
   "cell_type": "code",
   "execution_count": 2,
   "id": "f162db23",
   "metadata": {},
   "outputs": [],
   "source": [
    "data_folder = Path('./data')"
   ]
  },
  {
   "cell_type": "code",
   "execution_count": 3,
   "id": "900a4c37",
   "metadata": {},
   "outputs": [],
   "source": [
    "#Reading from file only columns that are going to be used\n",
    "hdr_df = pd.read_csv(data_folder / 'human_development_reports' / 'HDR23-24_Composite_indices_complete_time_series.csv', \\\n",
    "                    usecols=['country',*[f'hdi_{year}' for year in range(1990,2023)],*[f'pop_total_{year}' for year in range(1990,2023)]], encoding='ISO-8859-1')\n",
    "\n",
    "\n",
    "BRICS = [\"Brazil\",\"Russia\",\"India\",\"China\",\"South Africa\"]\n",
    "Mercosul = [\"Brazil\",\"Argentina\",\"Paraguay\",\"Uruguay\",\"Chile\",\"Colombia\",\"Ecuador\",\"Guyana\",\"Peru\",\"Suriname\"]"
   ]
  },
  {
   "cell_type": "markdown",
   "id": "dc0272ea",
   "metadata": {},
   "source": [
    "## Country name treatments"
   ]
  },
  {
   "cell_type": "code",
   "execution_count": 4,
   "id": "7f292be4",
   "metadata": {},
   "outputs": [],
   "source": [
    "#Changing Russia country name\n",
    "hdr_df['country'] = hdr_df['country'].str.replace('Russian Federation','Russia') \n",
    "\n",
    "#Eliminating content in parenthesis from some countries\n",
    "hdr_df['country'] = hdr_df['country'].str.replace(r'(.*?)\\s*\\(.*\\)',r'\\1',regex=True)"
   ]
  },
  {
   "cell_type": "markdown",
   "id": "5f3d3257",
   "metadata": {},
   "source": [
    "## Confirming whether countries are found on the database"
   ]
  },
  {
   "cell_type": "code",
   "execution_count": 5,
   "id": "ded36770",
   "metadata": {},
   "outputs": [],
   "source": [
    "def double_check_countries_existence_on_df(countries_list: list, df: pd.DataFrame):\n",
    "    for country in countries_list:\n",
    "        assert country in df.country.values, f\"{country} not found on the dataset\""
   ]
  },
  {
   "cell_type": "code",
   "execution_count": 6,
   "id": "7ad37c7a",
   "metadata": {},
   "outputs": [],
   "source": [
    "double_check_countries_existence_on_df(BRICS, hdr_df)\n",
    "double_check_countries_existence_on_df(Mercosul, hdr_df)"
   ]
  },
  {
   "cell_type": "markdown",
   "id": "d86cdf97",
   "metadata": {},
   "source": [
    "## Cleaning unused data"
   ]
  },
  {
   "cell_type": "code",
   "execution_count": 7,
   "id": "994baeef-7bcf-482f-b4e7-b7c992739a92",
   "metadata": {},
   "outputs": [],
   "source": [
    "#Separating population data\n",
    "population_df = hdr_df[['country', *[f'pop_total_{year}' for year in range(1990,2023)]]].copy()\n",
    "\n",
    "#Renaming human developing indices per year to respective year\n",
    "population_df = population_df.rename(columns=dict(zip([f\"pop_total_{year}\" for year in range(1990,2023)],range(1990,2023))))\n",
    "\n",
    "# Transposing df\n",
    "population_df = population_df.set_index('country').transpose()\n",
    "\n",
    "# Casting years to int\n",
    "population_df.index = population_df.index.astype(int)\n",
    "\n",
    "#Data is presented per million\n",
    "population_df = population_df*1e6"
   ]
  },
  {
   "cell_type": "code",
   "execution_count": 8,
   "id": "5fc8190d",
   "metadata": {},
   "outputs": [],
   "source": [
    "#Separating human development index data\n",
    "hdr_df = hdr_df[['country',*[f'hdi_{year}' for year in range(1990,2023)]]]\n",
    "\n",
    "#Renaming human developing indices per year to respective year\n",
    "hdr_df = hdr_df.rename(columns=dict(zip([f\"hdi_{year}\" for year in range(1990,2023)],range(1990,2023))))"
   ]
  },
  {
   "cell_type": "code",
   "execution_count": 9,
   "id": "131ef3d7",
   "metadata": {},
   "outputs": [],
   "source": [
    "#Eliminating unused data\n",
    "hdr_df = hdr_df[hdr_df.country.isin(['World',*BRICS,*Mercosul])]"
   ]
  },
  {
   "cell_type": "code",
   "execution_count": 10,
   "id": "2fdd68b2",
   "metadata": {},
   "outputs": [],
   "source": [
    "# Transposing df\n",
    "hdr_df = hdr_df.set_index('country').transpose()"
   ]
  },
  {
   "cell_type": "code",
   "execution_count": 11,
   "id": "be3e76cf",
   "metadata": {},
   "outputs": [],
   "source": [
    "# Casting years to int\n",
    "hdr_df.index = hdr_df.index.astype(int)"
   ]
  },
  {
   "cell_type": "code",
   "execution_count": 12,
   "id": "143f16b8",
   "metadata": {},
   "outputs": [],
   "source": [
    "# Calculating mean hdi index for BRICS and Mercosul countries\n",
    "hdr_df['BRICS'] = hdr_df[BRICS].mean(axis=1)\n",
    "hdr_df['Mercosul'] = hdr_df[Mercosul].mean(axis=1)"
   ]
  },
  {
   "cell_type": "markdown",
   "id": "8a4eef74",
   "metadata": {},
   "source": [
    "# Manipulating World Development Indicators dataset"
   ]
  },
  {
   "cell_type": "markdown",
   "id": "37553263",
   "metadata": {},
   "source": [
    "## Reading dataset"
   ]
  },
  {
   "cell_type": "code",
   "execution_count": 13,
   "id": "1fbfff17",
   "metadata": {},
   "outputs": [],
   "source": [
    "gdp_df = pd.read_csv(data_folder / 'P_Data_Extract_From_World_Development_Indicators' / 'ca58506c-ca1b-4e43-91e1-1537eb09b0b8_Data.csv', \\\n",
    "                    nrows=802)"
   ]
  },
  {
   "cell_type": "markdown",
   "id": "b8f00a51",
   "metadata": {},
   "source": [
    "## Treating data"
   ]
  },
  {
   "cell_type": "code",
   "execution_count": 14,
   "id": "98f05e7b",
   "metadata": {},
   "outputs": [],
   "source": [
    "# Cleaning unused series\n",
    "gdp_df=gdp_df[gdp_df['Series Name']=='GDP (constant 2015 US$)' ]\n",
    "\n",
    "# Renaming country name column\n",
    "gdp_df = gdp_df.rename(columns={\"Country Name\":\"country\"})\n",
    "\n",
    "# Treating country names\n",
    "gdp_df['country'] = gdp_df['country'].str.replace('Russian Federation','Russia') \n",
    "\n",
    "#Eliminating content after comma for some countries\n",
    "gdp_df['country'] = gdp_df['country'].str.replace(r'(.*?)\\s*,(.*)',r'\\1',regex=True)"
   ]
  },
  {
   "cell_type": "code",
   "execution_count": 15,
   "id": "eef63d6e",
   "metadata": {},
   "outputs": [],
   "source": [
    "## Assuring countries studied does exist on dataset\n",
    "double_check_countries_existence_on_df(BRICS, gdp_df)\n",
    "double_check_countries_existence_on_df(Mercosul, gdp_df)"
   ]
  },
  {
   "cell_type": "code",
   "execution_count": 16,
   "id": "aa3a9ece",
   "metadata": {},
   "outputs": [],
   "source": [
    "# Renaming columns to year\n",
    "gdp_df = gdp_df.rename(columns=dict(zip([f\"{year} [YR{year}]\" for year in range(1960,2023)],range(1960,2023))))"
   ]
  },
  {
   "cell_type": "code",
   "execution_count": 17,
   "id": "aa6eeddd",
   "metadata": {},
   "outputs": [],
   "source": [
    "#Dropping unused columns\n",
    "gdp_df = gdp_df.drop(columns=['Country Code','Series Name','Series Code'])"
   ]
  },
  {
   "cell_type": "code",
   "execution_count": 18,
   "id": "032a7ba9",
   "metadata": {},
   "outputs": [],
   "source": [
    "#Narrowing to countries of interest unused data\n",
    "gdp_df = gdp_df[gdp_df.country.isin(['World',*BRICS,*Mercosul])]"
   ]
  },
  {
   "cell_type": "code",
   "execution_count": 19,
   "id": "8adaacf2",
   "metadata": {},
   "outputs": [],
   "source": [
    "# Narrowing to time range of hdr data\n",
    "gdp_df = gdp_df.set_index('country')\n",
    "gdp_df = gdp_df[hdr_df.index.values]"
   ]
  },
  {
   "cell_type": "code",
   "execution_count": 20,
   "id": "eb58baad",
   "metadata": {},
   "outputs": [],
   "source": [
    "gdp_df = gdp_df.transpose()\n",
    "\n",
    "# Casting years to int\n",
    "gdp_df.index = gdp_df.index.astype(int)"
   ]
  },
  {
   "cell_type": "code",
   "execution_count": 21,
   "id": "7e053c1b-253d-4bfc-af6d-500776d163c1",
   "metadata": {},
   "outputs": [],
   "source": [
    "gdp_capita_df = gdp_df/population_df[gdp_df.columns]"
   ]
  },
  {
   "cell_type": "code",
   "execution_count": 22,
   "id": "c42486fd",
   "metadata": {},
   "outputs": [],
   "source": [
    "# Calculating mean value for BRICS and Mercosul countries\n",
    "gdp_capita_df['BRICS'] = gdp_capita_df[BRICS].mean(axis=1)\n",
    "gdp_capita_df['Mercosul'] = gdp_capita_df[Mercosul].mean(axis=1)"
   ]
  },
  {
   "cell_type": "markdown",
   "id": "4d2ccdd2-ecd6-4798-9483-a92437d16563",
   "metadata": {},
   "source": [
    "## Generating plot"
   ]
  },
  {
   "cell_type": "code",
   "execution_count": 23,
   "id": "9ad63722-8333-4039-adc7-ff9de924c50f",
   "metadata": {},
   "outputs": [],
   "source": [
    "default_cycler = (cycler(color=['r', 'k', 'k', 'k']) +\n",
    "                  cycler(linestyle=['-', '--', ':', '-.']) +\n",
    "                  cycler(marker=['o', 'x', 's', '^'])\n",
    "                 )\n",
    "\n",
    "plt.rc('lines', linewidth=2)\n",
    "plt.rc('axes', prop_cycle=default_cycler)"
   ]
  },
  {
   "cell_type": "code",
   "execution_count": 24,
   "id": "c0d2362d-deb9-4805-a982-7d7488b36aab",
   "metadata": {},
   "outputs": [
    {
     "data": {
      "text/plain": [
       "Text(0.5, 0, 'Year')"
      ]
     },
     "execution_count": 24,
     "metadata": {},
     "output_type": "execute_result"
    },
    {
     "data": {
      "image/png": "[encoded data removed]",
      "text/plain": [
       "<Figure size 576x360 with 2 Axes>"
      ]
     },
     "metadata": {
      "needs_background": "light"
     },
     "output_type": "display_data"
    }
   ],
   "source": [
    "plt.close('all')\n",
    "fig, [ax,ax2] = plt.subplots(2,1,sharex=True,constrained_layout=True, figsize=(8, 5))\n",
    "ax.plot(hdr_df['Brazil'].index,hdr_df['Brazil'].values,label='Brazil')\n",
    "ax.plot(hdr_df['BRICS'].index,hdr_df['BRICS'].values,label='BRICS')\n",
    "ax.plot(hdr_df['Mercosul'].index,hdr_df['Mercosul'].values,label='Mercosul')\n",
    "ax.plot(hdr_df['World'].index,hdr_df['World'].values,label='World')\n",
    "\n",
    "ax.set_ylabel('Human development index')\n",
    "ax.legend()\n",
    "\n",
    "#ax2 = ax.twinx()\n",
    "\n",
    "ax2.plot(gdp_capita_df['Brazil'].index,gdp_capita_df['Brazil'].values,label='Brazil')\n",
    "ax2.plot(gdp_capita_df['BRICS'].index,gdp_capita_df['BRICS'].values,label='BRICS')\n",
    "ax2.plot(gdp_capita_df['Mercosul'].index,gdp_capita_df['Mercosul'].values,label='Mercosul')\n",
    "ax2.plot(gdp_capita_df['World'].index,gdp_capita_df['World'].values,label='World')\n",
    "\n",
    "ax2.set_ylabel('GDP (constant 2015 US$)')\n",
    "\n",
    "ax2.set_xlabel('Year')\n"
   ]
  },
  {
   "cell_type": "markdown",
   "id": "3e648e56-1131-4422-8af9-3829316f15ea",
   "metadata": {},
   "source": [
    "# Correlation values"
   ]
  },
  {
   "cell_type": "code",
   "execution_count": 25,
   "id": "565dca93-98ab-42eb-947f-ecbb9b482a53",
   "metadata": {},
   "outputs": [
    {
     "name": "stdout",
     "output_type": "stream",
     "text": [
      "R-value for Brazil: 0.9028915386018304\n",
      "R-value for BRICS: 0.9605614973262033\n",
      "R-value for World: 0.9954872276772494\n",
      "R-value for Mercosul: 0.9632352941176471\n"
     ]
    }
   ],
   "source": [
    "import scipy.stats\n",
    "\n",
    "values = ['Brazil','BRICS','World','Mercosul']\n",
    "\n",
    "for value in values:\n",
    "    print(f\"R-value for {value}: {scipy.stats.spearmanr(hdr_df[value].values, gdp_capita_df[value].values).correlation}\")"
   ]
  },
  {
   "cell_type": "code",
   "execution_count": null,
   "id": "c986888d",
   "metadata": {},
   "outputs": [],
   "source": []
  }
 ],
 "metadata": {
  "kernelspec": {
   "display_name": "Python 3",
   "language": "python",
   "name": "python3"
  },
  "language_info": {
   "codemirror_mode": {
    "name": "ipython",
    "version": 3
   },
   "file_extension": ".py",
   "mimetype": "text/x-python",
   "name": "python",
   "nbconvert_exporter": "python",
   "pygments_lexer": "ipython3",
   "version": "3.7.10"
  },
  "toc": {
   "base_numbering": 1,
   "nav_menu": {},
   "number_sections": true,
   "sideBar": true,
   "skip_h1_title": false,
   "title_cell": "Table of Contents",
   "title_sidebar": "Contents",
   "toc_cell": false,
   "toc_position": {},
   "toc_section_display": true,
   "toc_window_display": false
  }
 },
 "nbformat": 4,
 "nbformat_minor": 5
}
